{
  "nbformat": 4,
  "nbformat_minor": 0,
  "metadata": {
    "colab": {
      "provenance": [],
      "authorship_tag": "ABX9TyM85Wg16obxZ/T7IYWN4eU6",
      "include_colab_link": true
    },
    "kernelspec": {
      "name": "python3",
      "display_name": "Python 3"
    },
    "language_info": {
      "name": "python"
    }
  },
  "cells": [
    {
      "cell_type": "markdown",
      "metadata": {
        "id": "view-in-github",
        "colab_type": "text"
      },
      "source": [
        "<a href=\"https://colab.research.google.com/github/balavishnu266/Leveraging_LLM_for_Text_Summaries/blob/main/text_summarization_thesis.ipynb\" target=\"_parent\"><img src=\"https://colab.research.google.com/assets/colab-badge.svg\" alt=\"Open In Colab\"/></a>"
      ]
    },
    {
      "cell_type": "code",
      "source": [
        "!pip install striprtf"
      ],
      "metadata": {
        "colab": {
          "base_uri": "https://localhost:8080/"
        },
        "id": "s-JUKx7cvdTr",
        "outputId": "57804010-efa4-435e-aeb3-7f80eb952a63"
      },
      "execution_count": 1,
      "outputs": [
        {
          "output_type": "stream",
          "name": "stdout",
          "text": [
            "Collecting striprtf\n",
            "  Downloading striprtf-0.0.26-py3-none-any.whl (6.9 kB)\n",
            "Installing collected packages: striprtf\n",
            "Successfully installed striprtf-0.0.26\n"
          ]
        }
      ]
    },
    {
      "cell_type": "code",
      "source": [
        "from google.colab import drive\n",
        "drive.mount('/content/gdrive')"
      ],
      "metadata": {
        "colab": {
          "base_uri": "https://localhost:8080/"
        },
        "id": "El0C0AAqwD6P",
        "outputId": "b1dbd1af-ea5b-4548-de18-fb5dfb5f5792"
      },
      "execution_count": 2,
      "outputs": [
        {
          "output_type": "stream",
          "name": "stdout",
          "text": [
            "Mounted at /content/gdrive\n"
          ]
        }
      ]
    },
    {
      "cell_type": "code",
      "source": [
        "from striprtf.striprtf import rtf_to_text\n",
        "\n",
        "file_path = '/content/gdrive/My Drive/german_transcript.rtf'\n",
        "with open(file_path, 'r') as file:\n",
        "    rtf_content = file.read()\n",
        "    text = rtf_to_text(rtf_content)\n",
        "    print(text)"
      ],
      "metadata": {
        "colab": {
          "base_uri": "https://localhost:8080/"
        },
        "id": "T8L8l4xvwP3i",
        "outputId": "f7696027-581a-4249-c4b8-09092b8c2e21"
      },
      "execution_count": 3,
      "outputs": [
        {
          "output_type": "stream",
          "name": "stdout",
          "text": [
            "Interviewtranskript „WiSe22-Bar01“\n",
            "Interviewcode: WiSe22-Bar01\n",
            "Datum und Uhrzeit des Interviews: 28.01.2023\n",
            "Dauer des Interviews (Minuten): 92\n",
            "Interview durchgeführt von: Bar\n",
            "Interview transkribiert von: Bar\n",
            "\n",
            "Synonym der interviewten Person (Kürzel): Marie (M)\n",
            "Geschlecht der interviewten Person: weiblich\n",
            "Alter der interviewten Person: 20\n",
            "Studiengang der interviewten Person: Lehramtsstudium\n",
            "Fachsemesterzahl der interviewten Person: 3\n",
            "\n",
            "Transkriptionsregeln: Transkript verbatim mit Sprechpausen, Interjektionen und Verzögerungslauten. Anmerkungen sind in eckigen Klammern gegeben. Auslassungen und längere Sprechpausen sind mit […] bzw. [13s] angezeigt. Notwendige Anonymisierungen wurden ebenfalls als Anmerkungen oder Auslassungen vorgenommen.\n",
            "Sonstige Anmerkungen und Beobachtungen zur Interviewsituation: Bei Minute 19 gab es eine Unterbrechung des Interviews, aufgrund der Türklingel. Das Interview wurde nach paar Minuten weitergeführt. \n",
            "Synonyme: Im Folgenden werden der Interviewer mit I und die Interviewte mit M abgekürzt:\n",
            "\n",
            "I: So, ich habe jetzt die Aufnahme gestartet und wir werden gleich mit dem Interview beginnen. Davor werde ich dir nochmal erklären, welches Thema wir heute zusammen durchgehen und wie das Interview ablaufen wird. Es geht um das Thema Lernerfolg, Lernstrategien und Lernmotivation. Ich werde dir Fragen stellen, wie du lernst, welche Erfahrungen du schon gemacht hast usw. Es ist mir wichtig, dass du alles erzählst, was für dich von Bedeutung ist. Mein Redeanteil wird klein sein und ich werde nur nachfragen, wenn ich etwas nicht verstanden habe. Ich werde deine Antworten mit dem Handy aufnehmen und das Interview wird im Anschluss anonymisiert transkribiert. Das heißt, deine Antworten können nicht mit deiner Person verknüpft werden. Hast du noch irgendwelche allgemeinen Fragen? \n",
            "M: Nein. \n",
            "I: Okay, dann starten wir mal, ähm, mit der ersten Frage. Was, äh, dein Lernerfolg betrifft. Dabei möchte ich bitte, dass du zurück an deinen letzten großen Lernerfolg denkst und schildere bitte ausführlich, worum es dabei genau ging und wie du im Detail dafür gelernt hast. Wie hast du dich nach dem Erreichen dieses Lernerfolg gefühlt? Welche persönlichen Erfahrungen hast du dabei gemacht? \n",
            "M: Also mein letzter Lernerfolg war zusammenhängt mit der letzten Klausur, die ich letztes Semester geschrieben habe. Dabei habe ich mich groß auf eine Prüfung vorbereitet, da sie mir sehr wichtig war. Und ich habe dafür viel gelernt und auch neue Methoden zum Lernen ausprobiert, was auch sehr spannend war. Und ja, genau dieser Erfolg ist dadurch gekommen, dass ich eine relativ gute Note bekommen habe, die ich auch mir sehr erhofft habe und dann auch zum Glück kam. Und ja, ich habe mich danach sehr gut gefühlt, weil einfach die Note nochmal gezeigt hat, dass sich des Lernen auf jeden Fall gelohnt hat. Und es hat mir auch sehr viel gebracht, weil ich einfach neue Sachen ausprobiert habe, neue Lernmethoden und ja auf jeden Fall viel auch für zukünftige Prüfungen und fürs zukünftige Lernen mitnehmen konnte. \n",
            "I: Okay, Super. Die nächste Frage wäre dann Bitte Berichte ausführlich, was Lernen für dich zu Beginn deiner Studiums bedeutet hat und wie du gelernt hast und wie sich das im Laufe deines Studiums verändert hat. Und haben bestimmte Lernerfahrungen deine Einstellung ins Positive oder Negative verändert? \n",
            "M:  Ja, also zu Beginn meines Studiums, da war meine Einstellung zum Lernen noch ein bisschen anders. Also es kam aus der Schule noch zurück, weil in der Schule war es auch teilweise relativ einfach, einen Tag vorher anzufangen zu lernen für einen Test oder auch teilweise für eine Klausur. Ich habe auch relativ gut und viel immer in der Schule schon verstanden und mit aus dem Unterricht genommen und oftmals wurde man halt viel mehr für Klausuren halt begleitet oder so beim Lernen halt begleitet, dass es dann so richtige Checklisten gab, was man alles können muss usw. Und es gab dann auch viele Übungen und die Klausuren waren ja auch relativ immer ähnlich aufgebaut und man wusste eigentlich schon immer vorher recht gut, was einen erwarten wird. Vor allem auch, da man teilweise einige Lehrer über mehrere Jahre hatte. Und mit dieser Einstellung bin ich dann auch ins Studium gegangen und habe meine ersten Prüfungen geschrieben und wurde dann so ein bisschen sehr überrascht. Also auch im Lernprozess schon, dass es halt so viel mehr ist an Stoff, aber auch irgendwie viel komplexer ist. Und vor allem man kann irgendwie nicht so ganz was erwarten oder man weiß nicht, was man erwarten kann oder soll von den Lehrern oder von den Dozenten und Professoren, weil man meistens die zum Ersten Mal hat, vor allem im ersten Semester und zum Ersten Mal im Studium, da weiß man erst recht nicht, was man irgendwie zu erwarten hat. Und ja, deswegen war da meine Lerneinstellung und wie ich gelernt habe, auch einfach sehr anders. Also ich war sehr überfordert zu Beginn und wusste nicht richtig, wo ich anfangen soll und wie ich anfangen soll zu lernen und habe dann versucht die Lernmethoden aus der Schule zu übernehmen. Jedoch hat es irgendwie nicht so ganz funktioniert. Also es war viel zu viel und ich habe mich sehr schnell überfordert gefühlt. Und ja, es hat sich halt auf jeden Fall ins Positive verändert. Jetzt. Mittlerweile. Auch durch diese Erfahrungen. Auf jeden Fall. Aber es hat natürlich auch so ein bisschen, ähm, ja auch negativen Einfluss gehabt. Wenn man merkt, okay, das funktioniert gar nicht, was ich jetzt mein ganzes Schulleben lang gemacht habe, wie ich die ganze Zeit gelernt habe, dass es plötzlich nicht mehr funktioniert und so nicht mehr geht. Das hat auf jeden Fall schon einen negativen Einfluss. Aber an sich war das auch positiv, weil man ja, also jetzt habe ich mich ins Positive verändert. \n",
            "I: Okay, kommen wir zur nächsten Frage. Dabei geht es um die Lernstrategie. Also, wie gehst du vor, um den Lernstoff bei deiner wichtigsten Vorlesung aus dem letzten Semester vor und nachzuarbeiten? Und wie bereitest du dich auf Prüfungen vor?\n",
            "M: Also ich arbeite nicht unbedingt den Stoff aus wichtigen Vorlesungen vor. Also ich weiß auch nicht. Also höchstens, dass man vielleicht, wenn schon irgendwelche Folien vorab online gestellt werden oder irgendwelche Lektüren oder so was schon draußen sind, dass man die sich anschaut, aber das auch eher nicht. Wenn, dann eher nacharbeiten. Also wenn ich zum Beispiel mal gefehlt habe bei einer Vorlesung oder eine Vorlesung auch eher nicht im Präsenz stattfindet, wie es auch in den letzten Semestern teilweise war. Dann einfach sich die Folien auf jeden Fall anschauen. Also meistens sind es ja Folien oder die Lektüren, was auch immer. Und auf jeden Fall versuche ich so gut wie möglich mit anderen Kommilitonen mit Freunden darüber zu sprechen, was die davon verstanden haben. Oder wenn sie zum Beispiel in der Vorlesung drin waren, ob da noch irgendwas Wichtiges erwähnt wurde. Aber man merkt auch schon eigentlich, wenn man ein paar Mal auf jeden Fall mindestens bei einer Vorlesung oder bei einem Seminar, bei einem Professor oder Dozenten war, dann merkt man schnell, wie dieser oder diese unterrichtet. Und wenn es halt eher ein Vorlesen von Folien ist, dann ist es einfacher, das nachzuarbeiten. Wenn man sich dann einfach die Folien anschaut und dann hat man eigentlich schon alles, was auch gesagt wurde. Ähm, und wenn es halt andere Art und Weise ist zu lehren, dann ja, da muss man halt irgendwie schauen, wie es am besten passt und es ist auch sehr individuell. Also es kommt immer auf die Vorlesung drauf an, wie ich das nacharbeite. Und ich bereite mich auf Prüfungen meist vor, dass ich alles anschaue bzw. mir vorab ein Inhaltsverzeichnis oder so eine Mindmap mache. Von allem Themen, die besprochen wurden und dann habe ich zuerst schon mal eine Übersicht, was alles gelernt werden muss. Und dann fange ich an, Zusammenfassungen zu jedem Thema zu machen. Dabei gehe ich immer die Folien, die passenden Vorlesungen durch und schreibe mir wirklich nur das Wichtigste raus. Dabei ist auch ein bisschen schwierig, teilweise zu erkennen, was wirklich das Wichtigste ist. Aber ich finde, manchmal merkt man das stark bei Dozenten, dass sie da schon Wert auf ein Thema zum Beispiel setzen und das auf jeden Fall dann markieren und auch ganz dick und fett in die Zusammenfassung mit reinmachen, auch wenn man irgendwas dazu geschrieben hat, auch immer dazu ähm schreiben bei den Zusammenfassungen. Und ja, ansonsten, wenn ich dann mit den Zusammenfassungen fertig bin, diese halt einfach durchgehen und auch schon wenn man die Zusammenfassung macht, dann merkt man ja auch schon, wo ein bisschen man noch Lücken hat und was man besser versteht und einfach das, was man ein bisschen weniger gut versteht oder Lücken hat, was man nicht so gut kann, da setze ich mir immer nebendran so ein Ausrufezeichen oder ein Sternchen oder markiert es mir anders. Und das gehe ich dann häufiger und regelmäßiger durch. Die anderen Sachen überprüfe ich trotzdem noch regelmäßig, aber nicht so intensiv wie die anderen Sachen und schaue mir immer an ähm, bis ich es verstehe oder nicht. Und dann teilweise zum Beispiel wenn ich mit Bleistift ein Kreuzchen daneben mache, dann radiere ich es weg, wenn ich zum Beispiel das gut schon verstanden habe. Genau. \n",
            "I: Und welche Lernstrategien hast du schon in deiner Lernlaufbahn angewendet und wie waren deine Erfahrungen damit? Positiv somit sowie negativ? \n",
            "M: Also ja, die Lernstrategie, die ich gerade erwähnt habe, ist die, die ich am häufigsten verwende und vor allem jetzt auch durch die letzte Prüfung oder Klausur noch mal vertieft habe. Aber was ich auf jeden Fall noch mache, ist häufig halt mit anderen darüber reden oder zum Beispiel auch anderen versuchen diese Themen zu erklären. Weil ich finde, wenn ich das noch mal laut sage und anderen versuche zu erklären, dann hilft es auf jeden Fall. Was ich auch sehr häufig mache es in meinem Zimmer rumlaufen und einfach das laut vor mich zu sagen. Teilweise auch irgendwelche Bewegungen, zum Beispiel wenn man eine genaue Definition auswendig lernen muss oder so und bei der Definition verschiedene Wörter sind, die man sich zum Beispiel ein bisschen schwieriger merken kann, dann irgendwie irgendwelche Bewegungen oder irgendwelche Gesichtsausdrücke [schmunzeln] oder irgendwie was, damit man was damit assoziieren kann, dass das einfacher ist, sich das zu merken. Aber bei mir hilft auf jeden Fall auch sehr viel, wenn ich mich dabei bewege, oder irgendwas mache mit meinen Händen zumindest. Genau das hilft mir für sehr viel, was so ein bisschen negativer für mich ist es einfach nur weiß ich nicht. Also weil manche machen es ja, dass sie sich irgendwie das aufnehmen, dass sie die Zusammenfassung durchlesen und das aufnehmen und danach anhören. Das habe ich auch schon mal versucht, aber es hat irgendwie gar nicht bei mir funktioniert, da ich mich einfach darauf gar nicht konzentriert habe und irgendwann mir selbst nicht mehr zugehört habe, wie ich die Zusammenfassung vorgelesen habe [lachen]. Deswegen das hilft eher weniger. Wenn, dann muss ich es mir einfach laut vorlesen, weil beim Vorlesen, da denke ich ja noch mal mit, als wenn ich nur was anhöre. Genau. Teilweise was auch sehr gut hilft mit anderen lernen, dass man sich zum Beispiel was gegenseitig erklärt oder die andere Person, dich abfragt. Das hilft mir. Es ist auf jeden Fall positiv. \n",
            "I: Gut, dann kommt die nächste Frage zur Lehrperson. Also, inwieweit beeinflusst dich die Art und Weise, wie eine Lehrperson eine Lehrveranstaltung gestaltet? Kannst du ein ausführliches Beispiel schildern? \n",
            "M:  Also ja, eine Lehrperson kann schon großen Unterschied machen, wie sie eine Lehrveranstaltung gestaltet. Ich finde zum Beispiel, wenn eine Lehrperson nur vorliest von Folien und auch die Folien sehr schlicht gestaltet sind, in dem Sinne nur Text zum Beispiel, dann merke ich mir das auch manchmal viel schlechter. Und dann ist es auch für mich viel schwieriger herauszufinden, was so wirklich das Wichtige ist. Vor allem beim Zusammenfassen. Wenn man es nicht direkt nach der Vorlesung zusammenfasst, sondern auch paar Wochen später oder so was zurückschaut auf den Folien, dann hat man so keine Ahnung mehr, was da wirklich wichtig ist oder wichtig sein könnte. Und wenn halt nun mal ein Professor das anders gestaltet, zum Beispiel auch viel immer dazu sagt und Beispiele nennt. Auch Beispiele sind sehr wichtig, finde ich. Also weil mit Beispielen kann ich sehr gut arbeiten und dadurch verstehe ich auch oftmals diese Sachen überhaupt. Und wenn halt nun mal viele Beispiele genannt werden und auch zum Beispiel sehr einfache und auch teilweise sehr witzige Beispiele, die merkt man sich dann super gut. Ich weiß zum Beispiel noch in einer Vorlesung, da hat ein Dozent ein Beispiel genannt und der ganze Hörsaal, hat gelacht, weil es einfach so witzig war, dieses Beispiel. Und das konnte sich eigentlich jeder bis zum Ende merken? Und das war auch so einfach, dann diese Theorie zu verstehen durch dieses Beispiel, weil es einfach auch so einen Bezug hatte und man das so gut einfach sich merken konnte, dass deswegen ist das auf jeden Fall sehr hilfreich. Und ja, also es macht schon einen großen Unterschied, wenn auch so eine Folie einfach ein bisschen farbenfroher gestaltet ist und die wichtigen Sachen so ein bisschen mehr dick fett markiert sind. Irgendwelche Bildchen vielleicht dazu? Also für mich ist es persönlich sehr hilfreich. Weil ich auch ein bisschen dieses Visuelle brauche. Genau. Also ja, auch so ein bisschen teilweise, wie die Lehrperson spricht. Teilweise sprechen Lehrpersonen sehr langweilig, um das mal so auszudrücken. Es klingt vielleicht ein bisschen fies, aber teilweise haben die einfach nicht so eine energetische Stimme. Und dann, wenn man in der Vorlesung für eineinhalb Stunden sitzt, dann irgendwann kann man sich einfach nicht mehr konzentrieren und hört auch nicht mehr zu. Deswegen, wenn man so ein bisschen energetisch und mit Beispielen, glaube ich, ich mag Beispiele sehr gerne [lachen], aber mit Beispielen spricht, dann ist es auch auf jeden Fall viel besser. \n",
            "I: Wie gehst du damit um, wenn du mit den Lernmaterialien der Lehrperson nicht klar kommst? \n",
            "M: Also Ja, also wie gesagt, wenn es halt. Ich komm damit eher nicht klar, wenn es halt viel Text auf einmal ist und man so ein bisschen schwer differenzieren kann, was wirklich wichtig ist und was nicht. Um ehrlich zu sein, ich bin mir da noch nicht ganz sicher, wie ich damit klarkomme. Ich hoffe einfach noch, dass ich das in den nächsten Semestern und Jahren auch noch irgendwie herausfinden kann, wie ich damit gut klarkomme [schmunzeln]. Aber auf jeden Fall, was ich versuche gerade zu machen, es auf jeden Fall mit anderen Leuten mich auszutauschen. Was sie zum Beispiel aus der Vorlesung als wichtig empfunden haben, teilweise vielleicht auch sogar Zusammenfassungen also nebeneinander zu legen und halt zu schauen, was die andere Person als wichtig empfunden hat und ob man das irgendwie ähnlich hat. Ja ansonsten ich glaube gar nichts mehr so richtig. Also es ist ein bisschen schwer, die Frage zu beantworten, weil ich nicht so eine klare Sache dafür habe. Es kommt ja auch immer darauf an. Und wie man damit nicht klar kommt, versteht man jetzt die Grundtheorie nicht oder ist es einfach zu viel, hat man ein Zeitproblem? Es gibt ja verschiedene Probleme und auf diese verschiedenen Probleme hat man auch verschiedene Ansätze. Aber ja, und es kommt immer auch auf die Vorlesung drauf an.\n",
            "I: Ist es dir schon mal passiert, dass du ein Thema gemocht hast, aber wegen dem Lehrer das Lernen etwas schleifen lassen hast? Und was hast du in diesem Moment gemacht, um deine Motivation aufrecht zu erhalten? \n",
            "M: Ähm, also es gab schon Themen, wo ich anfangs sozusagen, wenn die Vorlesung angefangen hat oder wenn man vorher sich informiert hat, klang die eigentlich ganz spannend oder so. Aber dann, als man gemerkt hat, okay, es geht nicht wirklich darum, was ich dachte, worum es geht, dann hat die Motivation oder dieses diese Freude daran aufgehört. Also, ich weiß nicht. Vielleicht lag es jetzt. Vielleicht ist es schon, was gemeint ist, aber ich habe irgendwie das Gefühl, dass es eher eine falsche Vorstellung von mir war. Vielleicht war es auch ein Mix aus einer falschen Vorstellung und einer falschen Präsentation von der Lehrperson aus. Ähm, um ja und dann die Motivation aufzubauen. Ich weiß nicht. Also so richtig gab es da jetzt auch nicht so eine Sache oder so, Ähm, was man irgendwie versucht zu machen, ist sich einfach durchzubeißen in dem Sinne ja und vielleicht auch so bei anderen zu checken. So okay, haben die das jetzt irgendwie verstanden?M Haben die noch Motivation. Also ich finde auch manchmal, wenn andere Motivation haben, dann kann das schon auch teilweise sehr motivierend wirken. Auch zum Beispiel wenn eine Person sehr viel gerade Freude an dem Thema hat und man dann merkt, okay, die Person ist gerade so Feuer und Flamme sozusagen für das Thema, dann hat man auch meiner Meinung nach mehr Motivation. Also habe ich so das Gefühl, wenn dann eine Freundin von mir von einem Thema berichtet oder so, dass es so spannend und so cool ist und so, dann bin ich eher bereit dazu, darüber was zu lernen und dann ist auch meine Motivation höher, weil ich so bin: Okay, ich will Sie jetzt unterstützen in dem Thema. In dem Sinne ja. \n",
            "[Unterbrechung durch Türklingel]\n",
            "Ja, also zu der Frage, ich glaube nochmal so als Abschluss zu der Frage. Ähm, also das so richtig, dass ich ein Thema mochte und der Dozent es schlecht gemacht hat, gab es nicht. Ja, also vielleicht höchstens was ich noch irgendwie sagen könnte, ist, wenn man an sich Interesse an einem Thema hatte oder hat und dann der Lehrer irgendwie, man den nicht so gerne mag oder die Person einfach so lehrt, dass man damit nicht so richtig klar kommt, dann ist es so ein bisschen schwieriger immer. Aber ich weiß jetzt nicht. Also so richtig krass war das jetzt nicht, weil entweder hatte ich schon von Anfang an nicht so die Motivation für das Thema. Also es gibt ja immer mal wieder Themen, bei denen man ein höheres Interesse hat und Themen, bei denen man eher ein kleineres Interesse hat, was ja auch völlig okay ist. Und ja. Aber an sich. Also ich weiß nicht, so richtig krass war das jetzt nicht, dass ich so ein richtiges Beispiel hätte. Und Motivation versuche ich einfach immer auf die gleiche Art und Weise aufrecht zu erhalten. Manchmal ist es einfacher, manchmal schwieriger. Aber ich versuche einfach immer, mein Ziel sozusagen vor Augen zu haben, wofür ich das ja alles mache, sozusagen. Weil ich ja meinen Abschluss möchte und die Prüfung gut bestehen möchte und auch im Endeffekt ja auch die Themen gut selbst wissen möchte, damit ich irgendwann anderen das auch beibringen kann. Und wenn ich es selbst nicht verstehe, dann ist es ja auch schwierig, das anderen Leuten beizubringen. Deswegen ja versuche ich das immer auch vor Augen zu halten und dann motiviert man sich auch besser und irgendwie auch so ein bisschen, wenn man darüber nachdenkt, irgendwann sitze ich dann auf der anderen Seite und lehre die anderen Personen. Da möchte ich ja auch das die Motivation haben. Und was kann ich den dann schon von Motivation sagen, wenn ich selbst nie die Motivation hatte. Aber es ist auch teilweise einfacher gesagt als getan. Deswegen ja die Motivation, also ich finde vor allem auch, was wichtig ist, wenn man einmal so ein bisschen Motivation kriegt, dann auf jeden Fall dran festzuhalten und diese Motivation aufrecht zu halten, so gut wie möglich. Also was ich einfach dann versuche, ist, womit ich gut klarkomme, ist einfach, wenn ich mal Motivation an einem Morgen habe, um zu lernen, dann wirklich durchzuziehen und versuchen so wenig und so kurze Pausen wie möglich zu machen und in diesen Pausen mich auch nicht ablenken zu lassen. Dann teilweise auch alle elektronischen Geräte, die mich irgendwie ablenken könnten, entweder ausschalten oder es gibt ja teilweise so Funktionen, dass keine Nachrichten durchkommen oder so oder so eine Handysperre, dass man zum Beispiel keine Social Media benutzen kann. Das dann einzustellen, dass ich wirklich mich nur darauf konzentrieren kann, was ich gerade mache und nicht abgelenkt zu werden. Dann auch meistens versuchen, wenn irgendwelche Leute da sind oder meine Mitbewohner, dass ich denen dann auch sage: bitte stört mich grade nicht. Ähm genau. Und dann sozusagen alles abzuschotten. Genau. Ja, es war für mich ganz gut, dann Motivation aufrecht zu erhalten.\n",
            "I: Dann kommen wir jetzt noch mal genauer auf die Motivation ein. Und zwar kannst du dich an eine konkrete Situation erinnern, in der du gar keine Motivation hattest zum Lernen, bitte. Also kannst du gerne ein bisschen schildern, ausführlich und wie es dazu gekommen ist, dass du diese Motivation nicht hattest und wie du am Ende vielleicht doch Motivation gekriegt hast. \n",
            "M: Ja, also es gab schon einige Situationen. Also wie gesagt, wenn es irgendein Thema war, das mich gar nicht interessiert hat, ja, dann ist Motivation auf jeden Fall schon nicht so richtig da. Oder auch teilweise. Wenn, weiß ich nicht. Wenn gerade super viel in den Leben von anderen Leuten passiert und man sich so denkt: Ich würde so gerne auch wenn zum Beispiel Freunde im Urlaub sind und man selbst dann irgendwie in der Bibliothek sitzt und ja sich denkt: Wow, jetzt hab ich noch diesen großen Stapel vor mir zu lernen. Ja. Und wenn man sieht, andere Leute gehen feiern, weil die schon die ersten Prüfungen durch haben und dann man selbst noch da sitzt und noch gar keine hat, ja, oder allgemein man sich denkt: wow, ich könnte jetzt coole Sachen machen. Wenn man zum Beispiel auch was absagen musste, dann ist auf jeden Fall die Motivation nicht da. Und teilweise habe ich auch so Phasen, wo ich gar nicht motiviert bin, ja dann damit klar zu kommen. Ja, also zum Beispiel eine Situation war letztes Semester, da ich an sich schon mit dem Fach oder mit der Vorlesung bin ich nicht so gut klar gekommen, also die dozierende Person hat das schon nicht so, uhm, nach meinem nach meinen Wünschen gemacht. In dem Sinne also jetzt sehr einfache Folien mit nicht mehr als Text und es war auch eher nur so eine Vorlesestunde. Wenn man immer in der Vorlesung war, wurde einfach nur vorgelesen, was auf den Folien drauf stand und es war auch super viel Stoff. Also weil man hatte die ganzen Vorlesungsfolien und wirklich da war viel Inhalt und dann gab es auch noch Pflichtlektüren. Deswegen das war auch einfach viel. Und da hatte ich gar keine Motivation zu lernen und habe auch leider es wirklich schleifen gelassen und habe zum Beispiel keine regelmäßigen Zusammenfassungen geschrieben. Und dadurch hatte ich am Ende dann einen riesigen Berg voll mit Lernstoff, den ich wirklich innerhalb von paar Wochen in dem Sinn können musste für die Prüfung. Und das war dann immer so ein bisschen schwierig auch überhaupt da irgendwie anzufangen und immer Motivation zu kriegen. Ja und am Ende habe ich dann Motivation, also ja gut, was heißt Motivation? Ich hab's dann einfach gemacht in dem Sinne, also die Zusammenfassung zu schreiben ging noch irgendwie, weil dann habe ich nebenbei, weiß ich nicht irgendwie Musik gehört. Also jetzt nicht irgendwie krasse Musik, aber dann höre ich teilweise so einfach nur so Klänge, als Musik. Das hilft einfach, das anmachen, alles andere ausschalten und die Zusammenfassung schreiben. Und das dann zu lernen ist ein bisschen schwieriger, wodurch ich so ein bisschen versucht habe, die Motivation her zu kriegen, ist, an anderen Orten zu lernen als jetzt nur zu Hause, weil dann hat sich das sehr eintönig angefühlt. Und dann bin ich einfach irgendwie rausgegangen, spazieren gegangen, dabei gelernt oder in der Bib oder so. Ja, das hat auch noch mal so ein bisschen Motivation gebracht. \n",
            "I: Denk mal zurück an einen Moment, wo du eine schlechte Note bekommen hast. Wie hast du dich dabei gefühlt? Wie hast du für die jeweilige Prüfung gelernt? Was hat die schlechte Note mit deiner Motivation gemacht? \n",
            "I: Ja, also so ein bisschen, wie schon erwähnt, am Anfang, im ersten Semester hatte ich eine Prüfung und da war die Note jetzt nicht so gut. Aber wie gesagt, ich war sehr überfordert, auch mit dem Lernen und allem. Deswegen habe ich auch schon. Also bevor ich überhaupt die Note bekommen habe, habe ich eigentlich schon eine schlechte Note erwartet. Ja, und ich habe für die Prüfung. Also wie gesagt, ich war einfach komplett überfordert. Ähm, ja. Und war sehr unsicher, wie ich lernen soll, was ich lernen soll. Und deswegen war das Lernen auch nicht so gut, weil ich so ein bisschen versucht habe auf Lücke zu lernen und dachte immer so: Ja, ich, ich weiß schon, wie das geht, ich hab's schon verstanden, ohne das so richtig zu verstehen oder teilweise versteht man, was da steht, aber man kann es selbst nicht wiedergeben. Deswegen das war so ein bisschen mein Problem. Und dann diese schlechte Note zu kriegen, das hat dann auf jeden Fall so meine Motivation schon irgendwie schlecht gemacht, aber eigentlich gar nicht unbedingt die Note selbst, denn das habe ich ja schon erwartet. Eigentlich mit der Prüfung an sich habe ich schon erwartet, dass es keine gute Note wird. Also die Note an sich hat jetzt meine Motivation nicht irgendwie schlecht gemacht, sondern eher allgemein diese Erfahrung mit dem Lernen. Die Note an sich hat jetzt, wenn, dann glaube ich ein bisschen mehr Motivation mir gegeben, weil ich es immerhin bestanden habe. Also habe ich mir gedacht: ich habe bestanden, und das hat mir dann so ein bisschen Motivation gegeben, okay, ich kanns also sogar, wenn ich mit so einer schlechten Lernerfahrung das irgendwie bestanden habe, dann schaffe ich das auch mit den anderen Prüfungen. Wenn ich jetzt einfach mich sozusagen hinsetze und wirklich daran arbeite, gut zu lernen und meine Lernmethoden für mich zu entdecken. Ja, deswegen, das habe ich einfach so gut wie möglich versucht und habe dann auch Motivation bekommen durch die Note so ein bisschen und dass ich es halt bestanden habe. Genau. \n",
            "I: Dann vielen Dank für das Interview. Ich habe jetzt noch zwei kleine Fragen. Zum einen: In welchem Semester bist du und was studierst du? \n",
            "M: Also ich bin gerade im dritten Semester und ich studiere Lehramt. \n",
            "I: Dann bedanke ich mich sehr für das Interview. Hat mir sehr Spaß gemacht und danke für deine ehrlichen und guten Antworten. Dankeschön. \n",
            "M: Ja, hat mir auch Spaß gemacht. Danke.\n",
            "\n"
          ]
        }
      ]
    },
    {
      "cell_type": "code",
      "source": [
        "# Install spacy\n",
        "!pip install spacy"
      ],
      "metadata": {
        "colab": {
          "base_uri": "https://localhost:8080/"
        },
        "id": "TdhkyXjwzo1L",
        "outputId": "77401697-c46f-4e59-dfbc-bc8305dbc5d8"
      },
      "execution_count": 4,
      "outputs": [
        {
          "output_type": "stream",
          "name": "stdout",
          "text": [
            "Requirement already satisfied: spacy in /usr/local/lib/python3.10/dist-packages (3.7.2)\n",
            "Requirement already satisfied: spacy-legacy<3.1.0,>=3.0.11 in /usr/local/lib/python3.10/dist-packages (from spacy) (3.0.12)\n",
            "Requirement already satisfied: spacy-loggers<2.0.0,>=1.0.0 in /usr/local/lib/python3.10/dist-packages (from spacy) (1.0.5)\n",
            "Requirement already satisfied: murmurhash<1.1.0,>=0.28.0 in /usr/local/lib/python3.10/dist-packages (from spacy) (1.0.10)\n",
            "Requirement already satisfied: cymem<2.1.0,>=2.0.2 in /usr/local/lib/python3.10/dist-packages (from spacy) (2.0.8)\n",
            "Requirement already satisfied: preshed<3.1.0,>=3.0.2 in /usr/local/lib/python3.10/dist-packages (from spacy) (3.0.9)\n",
            "Requirement already satisfied: thinc<8.3.0,>=8.1.8 in /usr/local/lib/python3.10/dist-packages (from spacy) (8.2.3)\n",
            "Requirement already satisfied: wasabi<1.2.0,>=0.9.1 in /usr/local/lib/python3.10/dist-packages (from spacy) (1.1.2)\n",
            "Requirement already satisfied: srsly<3.0.0,>=2.4.3 in /usr/local/lib/python3.10/dist-packages (from spacy) (2.4.8)\n",
            "Requirement already satisfied: catalogue<2.1.0,>=2.0.6 in /usr/local/lib/python3.10/dist-packages (from spacy) (2.0.10)\n",
            "Requirement already satisfied: weasel<0.4.0,>=0.1.0 in /usr/local/lib/python3.10/dist-packages (from spacy) (0.3.4)\n",
            "Requirement already satisfied: typer<0.10.0,>=0.3.0 in /usr/local/lib/python3.10/dist-packages (from spacy) (0.9.0)\n",
            "Requirement already satisfied: smart-open<7.0.0,>=5.2.1 in /usr/local/lib/python3.10/dist-packages (from spacy) (6.4.0)\n",
            "Requirement already satisfied: tqdm<5.0.0,>=4.38.0 in /usr/local/lib/python3.10/dist-packages (from spacy) (4.66.2)\n",
            "Requirement already satisfied: requests<3.0.0,>=2.13.0 in /usr/local/lib/python3.10/dist-packages (from spacy) (2.31.0)\n",
            "Requirement already satisfied: pydantic!=1.8,!=1.8.1,<3.0.0,>=1.7.4 in /usr/local/lib/python3.10/dist-packages (from spacy) (2.6.1)\n",
            "Requirement already satisfied: jinja2 in /usr/local/lib/python3.10/dist-packages (from spacy) (3.1.3)\n",
            "Requirement already satisfied: setuptools in /usr/local/lib/python3.10/dist-packages (from spacy) (67.7.2)\n",
            "Requirement already satisfied: packaging>=20.0 in /usr/local/lib/python3.10/dist-packages (from spacy) (23.2)\n",
            "Requirement already satisfied: langcodes<4.0.0,>=3.2.0 in /usr/local/lib/python3.10/dist-packages (from spacy) (3.3.0)\n",
            "Requirement already satisfied: numpy>=1.19.0 in /usr/local/lib/python3.10/dist-packages (from spacy) (1.25.2)\n",
            "Requirement already satisfied: annotated-types>=0.4.0 in /usr/local/lib/python3.10/dist-packages (from pydantic!=1.8,!=1.8.1,<3.0.0,>=1.7.4->spacy) (0.6.0)\n",
            "Requirement already satisfied: pydantic-core==2.16.2 in /usr/local/lib/python3.10/dist-packages (from pydantic!=1.8,!=1.8.1,<3.0.0,>=1.7.4->spacy) (2.16.2)\n",
            "Requirement already satisfied: typing-extensions>=4.6.1 in /usr/local/lib/python3.10/dist-packages (from pydantic!=1.8,!=1.8.1,<3.0.0,>=1.7.4->spacy) (4.9.0)\n",
            "Requirement already satisfied: charset-normalizer<4,>=2 in /usr/local/lib/python3.10/dist-packages (from requests<3.0.0,>=2.13.0->spacy) (3.3.2)\n",
            "Requirement already satisfied: idna<4,>=2.5 in /usr/local/lib/python3.10/dist-packages (from requests<3.0.0,>=2.13.0->spacy) (3.6)\n",
            "Requirement already satisfied: urllib3<3,>=1.21.1 in /usr/local/lib/python3.10/dist-packages (from requests<3.0.0,>=2.13.0->spacy) (2.0.7)\n",
            "Requirement already satisfied: certifi>=2017.4.17 in /usr/local/lib/python3.10/dist-packages (from requests<3.0.0,>=2.13.0->spacy) (2024.2.2)\n",
            "Requirement already satisfied: blis<0.8.0,>=0.7.8 in /usr/local/lib/python3.10/dist-packages (from thinc<8.3.0,>=8.1.8->spacy) (0.7.11)\n",
            "Requirement already satisfied: confection<1.0.0,>=0.0.1 in /usr/local/lib/python3.10/dist-packages (from thinc<8.3.0,>=8.1.8->spacy) (0.1.4)\n",
            "Requirement already satisfied: click<9.0.0,>=7.1.1 in /usr/local/lib/python3.10/dist-packages (from typer<0.10.0,>=0.3.0->spacy) (8.1.7)\n",
            "Requirement already satisfied: cloudpathlib<0.17.0,>=0.7.0 in /usr/local/lib/python3.10/dist-packages (from weasel<0.4.0,>=0.1.0->spacy) (0.16.0)\n",
            "Requirement already satisfied: MarkupSafe>=2.0 in /usr/local/lib/python3.10/dist-packages (from jinja2->spacy) (2.1.5)\n"
          ]
        }
      ]
    },
    {
      "cell_type": "code",
      "source": [
        "# Download the German language model for spacy\n",
        "!python -m spacy download de_core_news_sm"
      ],
      "metadata": {
        "colab": {
          "base_uri": "https://localhost:8080/"
        },
        "id": "rx858QSLzuGK",
        "outputId": "235eb2cb-a9c0-4a02-b594-2c36cede2276"
      },
      "execution_count": 5,
      "outputs": [
        {
          "output_type": "stream",
          "name": "stdout",
          "text": [
            "Collecting de-core-news-sm==3.7.0\n",
            "  Downloading https://github.com/explosion/spacy-models/releases/download/de_core_news_sm-3.7.0/de_core_news_sm-3.7.0-py3-none-any.whl (14.6 MB)\n",
            "\u001b[2K     \u001b[90m━━━━━━━━━━━━━━━━━━━━━━━━━━━━━━━━━━━━━━━━\u001b[0m \u001b[32m14.6/14.6 MB\u001b[0m \u001b[31m32.5 MB/s\u001b[0m eta \u001b[36m0:00:00\u001b[0m\n",
            "\u001b[?25hRequirement already satisfied: spacy<3.8.0,>=3.7.0 in /usr/local/lib/python3.10/dist-packages (from de-core-news-sm==3.7.0) (3.7.2)\n",
            "Requirement already satisfied: spacy-legacy<3.1.0,>=3.0.11 in /usr/local/lib/python3.10/dist-packages (from spacy<3.8.0,>=3.7.0->de-core-news-sm==3.7.0) (3.0.12)\n",
            "Requirement already satisfied: spacy-loggers<2.0.0,>=1.0.0 in /usr/local/lib/python3.10/dist-packages (from spacy<3.8.0,>=3.7.0->de-core-news-sm==3.7.0) (1.0.5)\n",
            "Requirement already satisfied: murmurhash<1.1.0,>=0.28.0 in /usr/local/lib/python3.10/dist-packages (from spacy<3.8.0,>=3.7.0->de-core-news-sm==3.7.0) (1.0.10)\n",
            "Requirement already satisfied: cymem<2.1.0,>=2.0.2 in /usr/local/lib/python3.10/dist-packages (from spacy<3.8.0,>=3.7.0->de-core-news-sm==3.7.0) (2.0.8)\n",
            "Requirement already satisfied: preshed<3.1.0,>=3.0.2 in /usr/local/lib/python3.10/dist-packages (from spacy<3.8.0,>=3.7.0->de-core-news-sm==3.7.0) (3.0.9)\n",
            "Requirement already satisfied: thinc<8.3.0,>=8.1.8 in /usr/local/lib/python3.10/dist-packages (from spacy<3.8.0,>=3.7.0->de-core-news-sm==3.7.0) (8.2.3)\n",
            "Requirement already satisfied: wasabi<1.2.0,>=0.9.1 in /usr/local/lib/python3.10/dist-packages (from spacy<3.8.0,>=3.7.0->de-core-news-sm==3.7.0) (1.1.2)\n",
            "Requirement already satisfied: srsly<3.0.0,>=2.4.3 in /usr/local/lib/python3.10/dist-packages (from spacy<3.8.0,>=3.7.0->de-core-news-sm==3.7.0) (2.4.8)\n",
            "Requirement already satisfied: catalogue<2.1.0,>=2.0.6 in /usr/local/lib/python3.10/dist-packages (from spacy<3.8.0,>=3.7.0->de-core-news-sm==3.7.0) (2.0.10)\n",
            "Requirement already satisfied: weasel<0.4.0,>=0.1.0 in /usr/local/lib/python3.10/dist-packages (from spacy<3.8.0,>=3.7.0->de-core-news-sm==3.7.0) (0.3.4)\n",
            "Requirement already satisfied: typer<0.10.0,>=0.3.0 in /usr/local/lib/python3.10/dist-packages (from spacy<3.8.0,>=3.7.0->de-core-news-sm==3.7.0) (0.9.0)\n",
            "Requirement already satisfied: smart-open<7.0.0,>=5.2.1 in /usr/local/lib/python3.10/dist-packages (from spacy<3.8.0,>=3.7.0->de-core-news-sm==3.7.0) (6.4.0)\n",
            "Requirement already satisfied: tqdm<5.0.0,>=4.38.0 in /usr/local/lib/python3.10/dist-packages (from spacy<3.8.0,>=3.7.0->de-core-news-sm==3.7.0) (4.66.2)\n",
            "Requirement already satisfied: requests<3.0.0,>=2.13.0 in /usr/local/lib/python3.10/dist-packages (from spacy<3.8.0,>=3.7.0->de-core-news-sm==3.7.0) (2.31.0)\n",
            "Requirement already satisfied: pydantic!=1.8,!=1.8.1,<3.0.0,>=1.7.4 in /usr/local/lib/python3.10/dist-packages (from spacy<3.8.0,>=3.7.0->de-core-news-sm==3.7.0) (2.6.1)\n",
            "Requirement already satisfied: jinja2 in /usr/local/lib/python3.10/dist-packages (from spacy<3.8.0,>=3.7.0->de-core-news-sm==3.7.0) (3.1.3)\n",
            "Requirement already satisfied: setuptools in /usr/local/lib/python3.10/dist-packages (from spacy<3.8.0,>=3.7.0->de-core-news-sm==3.7.0) (67.7.2)\n",
            "Requirement already satisfied: packaging>=20.0 in /usr/local/lib/python3.10/dist-packages (from spacy<3.8.0,>=3.7.0->de-core-news-sm==3.7.0) (23.2)\n",
            "Requirement already satisfied: langcodes<4.0.0,>=3.2.0 in /usr/local/lib/python3.10/dist-packages (from spacy<3.8.0,>=3.7.0->de-core-news-sm==3.7.0) (3.3.0)\n",
            "Requirement already satisfied: numpy>=1.19.0 in /usr/local/lib/python3.10/dist-packages (from spacy<3.8.0,>=3.7.0->de-core-news-sm==3.7.0) (1.25.2)\n",
            "Requirement already satisfied: annotated-types>=0.4.0 in /usr/local/lib/python3.10/dist-packages (from pydantic!=1.8,!=1.8.1,<3.0.0,>=1.7.4->spacy<3.8.0,>=3.7.0->de-core-news-sm==3.7.0) (0.6.0)\n",
            "Requirement already satisfied: pydantic-core==2.16.2 in /usr/local/lib/python3.10/dist-packages (from pydantic!=1.8,!=1.8.1,<3.0.0,>=1.7.4->spacy<3.8.0,>=3.7.0->de-core-news-sm==3.7.0) (2.16.2)\n",
            "Requirement already satisfied: typing-extensions>=4.6.1 in /usr/local/lib/python3.10/dist-packages (from pydantic!=1.8,!=1.8.1,<3.0.0,>=1.7.4->spacy<3.8.0,>=3.7.0->de-core-news-sm==3.7.0) (4.9.0)\n",
            "Requirement already satisfied: charset-normalizer<4,>=2 in /usr/local/lib/python3.10/dist-packages (from requests<3.0.0,>=2.13.0->spacy<3.8.0,>=3.7.0->de-core-news-sm==3.7.0) (3.3.2)\n",
            "Requirement already satisfied: idna<4,>=2.5 in /usr/local/lib/python3.10/dist-packages (from requests<3.0.0,>=2.13.0->spacy<3.8.0,>=3.7.0->de-core-news-sm==3.7.0) (3.6)\n",
            "Requirement already satisfied: urllib3<3,>=1.21.1 in /usr/local/lib/python3.10/dist-packages (from requests<3.0.0,>=2.13.0->spacy<3.8.0,>=3.7.0->de-core-news-sm==3.7.0) (2.0.7)\n",
            "Requirement already satisfied: certifi>=2017.4.17 in /usr/local/lib/python3.10/dist-packages (from requests<3.0.0,>=2.13.0->spacy<3.8.0,>=3.7.0->de-core-news-sm==3.7.0) (2024.2.2)\n",
            "Requirement already satisfied: blis<0.8.0,>=0.7.8 in /usr/local/lib/python3.10/dist-packages (from thinc<8.3.0,>=8.1.8->spacy<3.8.0,>=3.7.0->de-core-news-sm==3.7.0) (0.7.11)\n",
            "Requirement already satisfied: confection<1.0.0,>=0.0.1 in /usr/local/lib/python3.10/dist-packages (from thinc<8.3.0,>=8.1.8->spacy<3.8.0,>=3.7.0->de-core-news-sm==3.7.0) (0.1.4)\n",
            "Requirement already satisfied: click<9.0.0,>=7.1.1 in /usr/local/lib/python3.10/dist-packages (from typer<0.10.0,>=0.3.0->spacy<3.8.0,>=3.7.0->de-core-news-sm==3.7.0) (8.1.7)\n",
            "Requirement already satisfied: cloudpathlib<0.17.0,>=0.7.0 in /usr/local/lib/python3.10/dist-packages (from weasel<0.4.0,>=0.1.0->spacy<3.8.0,>=3.7.0->de-core-news-sm==3.7.0) (0.16.0)\n",
            "Requirement already satisfied: MarkupSafe>=2.0 in /usr/local/lib/python3.10/dist-packages (from jinja2->spacy<3.8.0,>=3.7.0->de-core-news-sm==3.7.0) (2.1.5)\n",
            "Installing collected packages: de-core-news-sm\n",
            "Successfully installed de-core-news-sm-3.7.0\n",
            "\u001b[38;5;2m✔ Download and installation successful\u001b[0m\n",
            "You can now load the package via spacy.load('de_core_news_sm')\n"
          ]
        }
      ]
    },
    {
      "cell_type": "code",
      "source": [
        "# Now you can import spacy and use it for preprocessing\n",
        "import spacy\n",
        "from spacy.lang.de.stop_words import STOP_WORDS"
      ],
      "metadata": {
        "id": "VINRjWO6zylb"
      },
      "execution_count": 6,
      "outputs": []
    },
    {
      "cell_type": "code",
      "source": [
        "# Load the German model\n",
        "nlp = spacy.load(\"de_core_news_sm\")"
      ],
      "metadata": {
        "id": "K7yaiK-Rz1T8"
      },
      "execution_count": 7,
      "outputs": []
    },
    {
      "cell_type": "code",
      "source": [
        "#Tokenization and Lemmatization\n",
        "doc = nlp(text)\n",
        "tokens_and_lemmas = [(token.text, token.lemma_) for token in doc]"
      ],
      "metadata": {
        "id": "uYGSrlv6z4I5"
      },
      "execution_count": 8,
      "outputs": []
    },
    {
      "cell_type": "code",
      "source": [
        "#Handling umlauts and special characters\n",
        "def replace_umlauts(text):\n",
        "    replacements = {\n",
        "        'ä': 'ae', 'ö': 'oe', 'ü': 'ue', 'ß': 'ss',\n",
        "        'Ä': 'Ae', 'Ö': 'Oe', 'Ü': 'Ue'\n",
        "    }\n",
        "    for k, v in replacements.items():\n",
        "        text = text.replace(k, v)\n",
        "    return text"
      ],
      "metadata": {
        "id": "rvDiArLr0cVK"
      },
      "execution_count": 9,
      "outputs": []
    },
    {
      "cell_type": "code",
      "source": [
        "#Covering the Identities of People and places in the Interview\n",
        "import spacy\n",
        "\n",
        "nlp = spacy.load(\"de_core_news_sm\")\n",
        "\n",
        "def anonymize_text(text):\n",
        "    doc = nlp(text)\n",
        "    anonymized_text = text\n",
        "    for ent in doc.ents:\n",
        "        if ent.label_ in [\"PER\", \"LOC\", \"ORG\"]:\n",
        "            anonymized_text = anonymized_text.replace(ent.text, f\"[{ent.label_}]\")\n",
        "    return anonymized_text"
      ],
      "metadata": {
        "id": "avo3SJlp0oeM"
      },
      "execution_count": 10,
      "outputs": []
    },
    {
      "cell_type": "code",
      "source": [
        "!pip install language_tool_python"
      ],
      "metadata": {
        "colab": {
          "base_uri": "https://localhost:8080/"
        },
        "id": "uNcqnQxn1rEQ",
        "outputId": "aac6d07e-4139-4458-88d0-c25c0abd64da"
      },
      "execution_count": 11,
      "outputs": [
        {
          "output_type": "stream",
          "name": "stdout",
          "text": [
            "Collecting language_tool_python\n",
            "  Downloading language_tool_python-2.7.1-py3-none-any.whl (34 kB)\n",
            "Requirement already satisfied: requests in /usr/local/lib/python3.10/dist-packages (from language_tool_python) (2.31.0)\n",
            "Requirement already satisfied: tqdm in /usr/local/lib/python3.10/dist-packages (from language_tool_python) (4.66.2)\n",
            "Requirement already satisfied: charset-normalizer<4,>=2 in /usr/local/lib/python3.10/dist-packages (from requests->language_tool_python) (3.3.2)\n",
            "Requirement already satisfied: idna<4,>=2.5 in /usr/local/lib/python3.10/dist-packages (from requests->language_tool_python) (3.6)\n",
            "Requirement already satisfied: urllib3<3,>=1.21.1 in /usr/local/lib/python3.10/dist-packages (from requests->language_tool_python) (2.0.7)\n",
            "Requirement already satisfied: certifi>=2017.4.17 in /usr/local/lib/python3.10/dist-packages (from requests->language_tool_python) (2024.2.2)\n",
            "Installing collected packages: language_tool_python\n",
            "Successfully installed language_tool_python-2.7.1\n"
          ]
        }
      ]
    },
    {
      "cell_type": "code",
      "source": [
        "import language_tool_python\n",
        "\n",
        "def quality_filter(text, lang='de-DE'):\n",
        "    tool = language_tool_python.LanguageTool(lang)\n",
        "    matches = tool.check(text)\n",
        "    corrected_text = language_tool_python.utils.correct(text, matches)\n",
        "    return corrected_text"
      ],
      "metadata": {
        "id": "shhPGsL01s9V"
      },
      "execution_count": 12,
      "outputs": []
    },
    {
      "cell_type": "code",
      "source": [
        "def structure_for_summarization(text):\n",
        "    # Split the text into lines as each line represents a part of the dialogue\n",
        "    lines = text.split('\\n')\n",
        "\n",
        "    structured_segments = []\n",
        "    current_segment = {\"question\": \"\", \"answer\": \"\"}\n",
        "\n",
        "    for line in lines:\n",
        "        # Check if the line is from the interviewer (I) or the interviewee (M)\n",
        "        if line.startswith('I:'):\n",
        "            # If there's an ongoing segment, append it to the structured_segments list\n",
        "            if current_segment[\"question\"]:\n",
        "                structured_segments.append(current_segment)\n",
        "                current_segment = {\"question\": \"\", \"answer\": \"\"}\n",
        "            # Add the question part to the current segment\n",
        "            current_segment[\"question\"] = line[3:]  # Exclude the 'I: ' part\n",
        "        elif line.startswith('M:'):\n",
        "            # Add the answer part to the current segment\n",
        "            current_segment[\"answer\"] += line[3:] + \" \"  # Exclude the 'M: ' part and add a space for readability\n",
        "\n",
        "    # Append the last segment if it exists\n",
        "    if current_segment[\"question\"]:\n",
        "        structured_segments.append(current_segment)\n",
        "\n",
        "    return structured_segments"
      ],
      "metadata": {
        "id": "hRaHiNMp55Zu"
      },
      "execution_count": 13,
      "outputs": []
    },
    {
      "cell_type": "code",
      "source": [
        "def remove_stopwords(text):\n",
        "    doc = nlp(text)\n",
        "    return \" \".join([token.text for token in doc if not token.is_stop])"
      ],
      "metadata": {
        "id": "T5VJX1JV6vRS"
      },
      "execution_count": 15,
      "outputs": []
    },
    {
      "cell_type": "code",
      "source": [
        "#Preparing the text for Summarization\n",
        "text = replace_umlauts(text)\n",
        "text = anonymize_text(text)\n",
        "text = quality_filter(text)\n",
        "structured_text = structure_for_summarization(text)\n",
        "final_text = [remove_stopwords(section) for section in structured_text]"
      ],
      "metadata": {
        "colab": {
          "base_uri": "https://localhost:8080/"
        },
        "id": "0wtEC21t663e",
        "outputId": "f27a0ee2-3bdb-4b16-c7b3-009b555495f9"
      },
      "execution_count": 16,
      "outputs": [
        {
          "output_type": "stream",
          "name": "stderr",
          "text": [
            "Downloading LanguageTool 5.7: 100%|██████████| 225M/225M [00:03<00:00, 67.0MB/s]\n",
            "INFO:language_tool_python.download_lt:Unzipping /tmp/tmptinxn5j4.zip to /root/.cache/language_tool_python.\n",
            "INFO:language_tool_python.download_lt:Downloaded https://www.languagetool.org/download/LanguageTool-5.7.zip to /root/.cache/language_tool_python.\n"
          ]
        }
      ]
    },
    {
      "cell_type": "code",
      "source": [
        "!pip install --upgrade openai"
      ],
      "metadata": {
        "colab": {
          "base_uri": "https://localhost:8080/"
        },
        "id": "bZMjbViNBOwX",
        "outputId": "a611e0cf-15f6-4a96-fc99-11f753c7ca3f"
      },
      "execution_count": 20,
      "outputs": [
        {
          "output_type": "stream",
          "name": "stdout",
          "text": [
            "Collecting openai\n",
            "  Downloading openai-1.12.0-py3-none-any.whl (226 kB)\n",
            "\u001b[?25l     \u001b[90m━━━━━━━━━━━━━━━━━━━━━━━━━━━━━━━━━━━━━━━━\u001b[0m \u001b[32m0.0/226.7 kB\u001b[0m \u001b[31m?\u001b[0m eta \u001b[36m-:--:--\u001b[0m\r\u001b[2K     \u001b[91m━━━━━━━━━━━━━━━━━━━━━━━━━━━\u001b[0m\u001b[90m╺\u001b[0m\u001b[90m━━━━━━━━━━━━\u001b[0m \u001b[32m153.6/226.7 kB\u001b[0m \u001b[31m4.4 MB/s\u001b[0m eta \u001b[36m0:00:01\u001b[0m\r\u001b[2K     \u001b[90m━━━━━━━━━━━━━━━━━━━━━━━━━━━━━━━━━━━━━━━━\u001b[0m \u001b[32m226.7/226.7 kB\u001b[0m \u001b[31m4.6 MB/s\u001b[0m eta \u001b[36m0:00:00\u001b[0m\n",
            "\u001b[?25hRequirement already satisfied: anyio<5,>=3.5.0 in /usr/local/lib/python3.10/dist-packages (from openai) (3.7.1)\n",
            "Requirement already satisfied: distro<2,>=1.7.0 in /usr/lib/python3/dist-packages (from openai) (1.7.0)\n",
            "Collecting httpx<1,>=0.23.0 (from openai)\n",
            "  Downloading httpx-0.26.0-py3-none-any.whl (75 kB)\n",
            "\u001b[2K     \u001b[90m━━━━━━━━━━━━━━━━━━━━━━━━━━━━━━━━━━━━━━━━\u001b[0m \u001b[32m75.9/75.9 kB\u001b[0m \u001b[31m9.6 MB/s\u001b[0m eta \u001b[36m0:00:00\u001b[0m\n",
            "\u001b[?25hRequirement already satisfied: pydantic<3,>=1.9.0 in /usr/local/lib/python3.10/dist-packages (from openai) (2.6.1)\n",
            "Requirement already satisfied: sniffio in /usr/local/lib/python3.10/dist-packages (from openai) (1.3.0)\n",
            "Requirement already satisfied: tqdm>4 in /usr/local/lib/python3.10/dist-packages (from openai) (4.66.2)\n",
            "Requirement already satisfied: typing-extensions<5,>=4.7 in /usr/local/lib/python3.10/dist-packages (from openai) (4.9.0)\n",
            "Requirement already satisfied: idna>=2.8 in /usr/local/lib/python3.10/dist-packages (from anyio<5,>=3.5.0->openai) (3.6)\n",
            "Requirement already satisfied: exceptiongroup in /usr/local/lib/python3.10/dist-packages (from anyio<5,>=3.5.0->openai) (1.2.0)\n",
            "Requirement already satisfied: certifi in /usr/local/lib/python3.10/dist-packages (from httpx<1,>=0.23.0->openai) (2024.2.2)\n",
            "Collecting httpcore==1.* (from httpx<1,>=0.23.0->openai)\n",
            "  Downloading httpcore-1.0.3-py3-none-any.whl (77 kB)\n",
            "\u001b[2K     \u001b[90m━━━━━━━━━━━━━━━━━━━━━━━━━━━━━━━━━━━━━━━━\u001b[0m \u001b[32m77.0/77.0 kB\u001b[0m \u001b[31m9.6 MB/s\u001b[0m eta \u001b[36m0:00:00\u001b[0m\n",
            "\u001b[?25hCollecting h11<0.15,>=0.13 (from httpcore==1.*->httpx<1,>=0.23.0->openai)\n",
            "  Downloading h11-0.14.0-py3-none-any.whl (58 kB)\n",
            "\u001b[2K     \u001b[90m━━━━━━━━━━━━━━━━━━━━━━━━━━━━━━━━━━━━━━━━\u001b[0m \u001b[32m58.3/58.3 kB\u001b[0m \u001b[31m7.2 MB/s\u001b[0m eta \u001b[36m0:00:00\u001b[0m\n",
            "\u001b[?25hRequirement already satisfied: annotated-types>=0.4.0 in /usr/local/lib/python3.10/dist-packages (from pydantic<3,>=1.9.0->openai) (0.6.0)\n",
            "Requirement already satisfied: pydantic-core==2.16.2 in /usr/local/lib/python3.10/dist-packages (from pydantic<3,>=1.9.0->openai) (2.16.2)\n",
            "Installing collected packages: h11, httpcore, httpx, openai\n",
            "\u001b[31mERROR: pip's dependency resolver does not currently take into account all the packages that are installed. This behaviour is the source of the following dependency conflicts.\n",
            "llmx 0.0.15a0 requires cohere, which is not installed.\n",
            "llmx 0.0.15a0 requires tiktoken, which is not installed.\u001b[0m\u001b[31m\n",
            "\u001b[0mSuccessfully installed h11-0.14.0 httpcore-1.0.3 httpx-0.26.0 openai-1.12.0\n"
          ]
        }
      ]
    },
    {
      "cell_type": "code",
      "source": [],
      "metadata": {
        "id": "rNXJCJoPBQrq"
      },
      "execution_count": null,
      "outputs": []
    }
  ]
}